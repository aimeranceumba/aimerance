{
  "nbformat": 4,
  "nbformat_minor": 0,
  "metadata": {
    "colab": {
      "provenance": [],
      "include_colab_link": true
    },
    "kernelspec": {
      "name": "python3",
      "display_name": "Python 3"
    },
    "language_info": {
      "name": "python"
    }
  },
  "cells": [
    {
      "cell_type": "markdown",
      "metadata": {
        "id": "view-in-github",
        "colab_type": "text"
      },
      "source": [
        "<a href=\"https://colab.research.google.com/github/aimeranceumba/aimerance/blob/main/Copy_of_Example_README_GitHub_Markdown.ipynb\" target=\"_parent\"><img src=\"https://colab.research.google.com/assets/colab-badge.svg\" alt=\"Open In Colab\"/></a>"
      ]
    },
    {
      "cell_type": "markdown",
      "metadata": {
        "id": "5AZfR_omqlDv"
      },
      "source": [
        "The following is the markdown syntax used to create the README file on the [example GitHub repository](https://github.com/alexanderresearch/Analytics). You can be creative in terms of the format and content of the README file (e.g., add more sections and some figures), but it must include the following elements at a minimum:\n",
        "\n",
        "1. A brief introduction of what this portfolio is about.\n",
        "2. A clickable URL link to the markdown CV you created in Assignment 1.\n",
        "3. A table of contents of assignments you have completed, with links to the Jupyter Notebooks of some assignments (at least 1)."
      ]
    },
    {
      "cell_type": "markdown",
      "metadata": {
        "id": "OHyAYOWNp68G"
      },
      "source": [
        "# Data Analytics Portfolio\n",
        "Welcome to my Data Analytics Portfolio! 📊🔍\n",
        "\n",
        "This portfolio is like a showcase of all the cool stuff I've learned in my data analytics class. You'll find a bunch of assignments here that I've completed throughout the semester. Each assignment taught me something new about playing with data and finding interesting things in it.\n",
        "\n",
        "## What is inside ?\n",
        "\n",
        "- **My Résumé:** It's like my professional snapshot, showing what I've done and what I'm good at in the data a roadmap that helps you find your way around the portfolio. You can jump to different assignments and see what I have been up to!\n",
        "\n",
        "## Let's Explore Together!\n",
        "\n",
        "## My Résumé\n",
        "\"Check out my résumé [here](https://colab.research.google.com/drive/1NZwkrMMl2nEwqR0TzT1_ZFTykIivGCgq?usp=sharing) to learn more about my background and skills in data analytics!\"\n",
        "\n",
        "_____________________________________________________________________________\n",
        "Before we delve into the assignments, let's reflect on what I've learned throughout this journey. From mastering programming fundamentals to delving into advanced statistical techniques, each step has been a valuable learning experience. Alongside the excitement of discovering new insights, there were challenges too, like debugging code or interpreting complex statistical models. Overcoming these obstacles has been instrumental in my growth as a data analyst. Beyond the classroom, the skills gained here have real-world applications, from informing business decisions to driving social impact.\n",
        "______________________________________________________________________________\n",
        "\n",
        "\n",
        "\n",
        "## Table of Contents\n",
        "1. **Module 1: Using Colab**\n",
        "   - A1: Markdown CV\n",
        "   \n",
        "2. **Module 2: Fundamentals of Programming for Data Analysis**\n",
        "   - A2 Programming Fundamentals\n",
        "   \n",
        "3. **Module 3: Working with Data**\n",
        "  - [A3 Work with data Yelp Reviews](https://colab.research.google.com/drive/1nuUyYk6fcpCUpbEtaIJoe_1NNGYkffsW?usp=sharing)\n",
        "\n",
        "4. **Module 4: Stats review**\n",
        "   - A4 Hypothesis testing - FB ads and Starbucks promos\n",
        "\n",
        "5. **Module 5: Regression**\n",
        "   - A5 Regression Analysis\n",
        "\n",
        "6. **Module 6: Clustering and Segmentation**\n",
        "   - A6 Segmentation (retail transactions and behavioral segmentation)\n",
        "   \n",
        "7. **Module 7: Use GitHub to Create Your Assignment Portfolio**\n",
        "    - A7 [List Your Data Analytics Skills]"
      ]
    },
    {
      "cell_type": "code",
      "metadata": {
        "id": "064zoU2yp-IJ"
      },
      "source": [],
      "execution_count": null,
      "outputs": []
    }
  ]
}